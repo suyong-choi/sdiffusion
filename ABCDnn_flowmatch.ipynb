{
 "cells": [
  {
   "cell_type": "code",
   "execution_count": 1,
   "id": "082ba947",
   "metadata": {},
   "outputs": [],
   "source": [
    "import uproot\n",
    "import numpy as np\n",
    "import pandas as pd\n",
    "import matplotlib.pyplot as plt\n",
    "\n",
    "from ttjjana import prepdata\n",
    "\n",
    "from flowmatching import *"
   ]
  },
  {
   "cell_type": "markdown",
   "id": "bb6886da",
   "metadata": {},
   "source": [
    "# Read data and reshape"
   ]
  },
  {
   "cell_type": "code",
   "execution_count": null,
   "id": "4ea33687",
   "metadata": {},
   "outputs": [],
   "source": [
    "rawinputs, normedinputs, inputmeans, inputsigma, ncat_per_feature = prepdata()"
   ]
  },
  {
   "cell_type": "code",
   "execution_count": 3,
   "id": "6b877f13",
   "metadata": {},
   "outputs": [
    {
     "data": {
      "text/html": [
       "<div>\n",
       "<style scoped>\n",
       "    .dataframe tbody tr th:only-of-type {\n",
       "        vertical-align: middle;\n",
       "    }\n",
       "\n",
       "    .dataframe tbody tr th {\n",
       "        vertical-align: top;\n",
       "    }\n",
       "\n",
       "    .dataframe thead th {\n",
       "        text-align: right;\n",
       "    }\n",
       "</style>\n",
       "<table border=\"1\" class=\"dataframe\">\n",
       "  <thead>\n",
       "    <tr style=\"text-align: right;\">\n",
       "      <th></th>\n",
       "      <th>met</th>\n",
       "      <th>ht</th>\n",
       "      <th>pt5</th>\n",
       "      <th>pt6</th>\n",
       "      <th>njet</th>\n",
       "      <th>nbtag</th>\n",
       "    </tr>\n",
       "  </thead>\n",
       "  <tbody>\n",
       "    <tr>\n",
       "      <th>0</th>\n",
       "      <td>84.002205</td>\n",
       "      <td>765.415955</td>\n",
       "      <td>96.491432</td>\n",
       "      <td>83.413086</td>\n",
       "      <td>7</td>\n",
       "      <td>2</td>\n",
       "    </tr>\n",
       "    <tr>\n",
       "      <th>1</th>\n",
       "      <td>95.233681</td>\n",
       "      <td>924.504883</td>\n",
       "      <td>71.028915</td>\n",
       "      <td>68.117470</td>\n",
       "      <td>11</td>\n",
       "      <td>2</td>\n",
       "    </tr>\n",
       "    <tr>\n",
       "      <th>2</th>\n",
       "      <td>54.860222</td>\n",
       "      <td>1668.847900</td>\n",
       "      <td>76.102409</td>\n",
       "      <td>46.142303</td>\n",
       "      <td>10</td>\n",
       "      <td>3</td>\n",
       "    </tr>\n",
       "    <tr>\n",
       "      <th>3</th>\n",
       "      <td>37.822800</td>\n",
       "      <td>355.041229</td>\n",
       "      <td>38.004093</td>\n",
       "      <td>36.965599</td>\n",
       "      <td>8</td>\n",
       "      <td>3</td>\n",
       "    </tr>\n",
       "    <tr>\n",
       "      <th>4</th>\n",
       "      <td>29.449005</td>\n",
       "      <td>555.668457</td>\n",
       "      <td>62.723263</td>\n",
       "      <td>45.919170</td>\n",
       "      <td>7</td>\n",
       "      <td>2</td>\n",
       "    </tr>\n",
       "    <tr>\n",
       "      <th>...</th>\n",
       "      <td>...</td>\n",
       "      <td>...</td>\n",
       "      <td>...</td>\n",
       "      <td>...</td>\n",
       "      <td>...</td>\n",
       "      <td>...</td>\n",
       "    </tr>\n",
       "    <tr>\n",
       "      <th>227371</th>\n",
       "      <td>76.066948</td>\n",
       "      <td>356.712494</td>\n",
       "      <td>40.887901</td>\n",
       "      <td>25.034538</td>\n",
       "      <td>7</td>\n",
       "      <td>2</td>\n",
       "    </tr>\n",
       "    <tr>\n",
       "      <th>227372</th>\n",
       "      <td>112.630661</td>\n",
       "      <td>982.286682</td>\n",
       "      <td>64.555443</td>\n",
       "      <td>62.528595</td>\n",
       "      <td>9</td>\n",
       "      <td>2</td>\n",
       "    </tr>\n",
       "    <tr>\n",
       "      <th>227373</th>\n",
       "      <td>8.826685</td>\n",
       "      <td>555.999023</td>\n",
       "      <td>38.395134</td>\n",
       "      <td>34.182259</td>\n",
       "      <td>9</td>\n",
       "      <td>2</td>\n",
       "    </tr>\n",
       "    <tr>\n",
       "      <th>227374</th>\n",
       "      <td>41.213657</td>\n",
       "      <td>687.215576</td>\n",
       "      <td>58.986603</td>\n",
       "      <td>51.859745</td>\n",
       "      <td>9</td>\n",
       "      <td>2</td>\n",
       "    </tr>\n",
       "    <tr>\n",
       "      <th>227375</th>\n",
       "      <td>56.090240</td>\n",
       "      <td>498.082611</td>\n",
       "      <td>51.162266</td>\n",
       "      <td>47.752556</td>\n",
       "      <td>8</td>\n",
       "      <td>2</td>\n",
       "    </tr>\n",
       "  </tbody>\n",
       "</table>\n",
       "<p>227376 rows × 6 columns</p>\n",
       "</div>"
      ],
      "text/plain": [
       "               met           ht        pt5        pt6  njet  nbtag\n",
       "0        84.002205   765.415955  96.491432  83.413086     7      2\n",
       "1        95.233681   924.504883  71.028915  68.117470    11      2\n",
       "2        54.860222  1668.847900  76.102409  46.142303    10      3\n",
       "3        37.822800   355.041229  38.004093  36.965599     8      3\n",
       "4        29.449005   555.668457  62.723263  45.919170     7      2\n",
       "...            ...          ...        ...        ...   ...    ...\n",
       "227371   76.066948   356.712494  40.887901  25.034538     7      2\n",
       "227372  112.630661   982.286682  64.555443  62.528595     9      2\n",
       "227373    8.826685   555.999023  38.395134  34.182259     9      2\n",
       "227374   41.213657   687.215576  58.986603  51.859745     9      2\n",
       "227375   56.090240   498.082611  51.162266  47.752556     8      2\n",
       "\n",
       "[227376 rows x 6 columns]"
      ]
     },
     "execution_count": 3,
     "metadata": {},
     "output_type": "execute_result"
    }
   ],
   "source": [
    "inputtmp"
   ]
  },
  {
   "cell_type": "code",
   "execution_count": 4,
   "id": "0078373e",
   "metadata": {},
   "outputs": [
    {
     "data": {
      "text/plain": [
       "[0, 0, 0, 0, 3, 2]"
      ]
     },
     "execution_count": 4,
     "metadata": {},
     "output_type": "execute_result"
    }
   ],
   "source": [
    "# this contains how many conditional features are in each category\n",
    "ncat_per_feature"
   ]
  },
  {
   "cell_type": "code",
   "execution_count": 5,
   "id": "681c0faa",
   "metadata": {},
   "outputs": [
    {
     "data": {
      "text/plain": [
       "(227376, 9)"
      ]
     },
     "execution_count": 5,
     "metadata": {},
     "output_type": "execute_result"
    }
   ],
   "source": [
    "normedinputs.shape"
   ]
  },
  {
   "cell_type": "code",
   "execution_count": 6,
   "id": "333e6f3c",
   "metadata": {},
   "outputs": [
    {
     "name": "stdout",
     "output_type": "stream",
     "text": [
      "Conditional dimension: 5\n",
      "Using device: cuda\n",
      "Automatic Mixed Precision (AMP) enabled: True\n"
     ]
    }
   ],
   "source": [
    "#conditional dimensions\n",
    "cdim = np.sum(ncat_per_feature)\n",
    "M = normedinputs.shape[1] - cdim\n",
    "if cdim > 0:\n",
    "    print(f\"Conditional dimension: {cdim}\")\n",
    "    isconditional = True\n",
    "else:\n",
    "    print(\"No conditional dimension\")\n",
    "    isconditional = False\n",
    "\n",
    "config = Config(\n",
    "        M=M,\n",
    "        nhidden=1024,        # Reduced hidden size for faster example\n",
    "        nlayers=2,          # Number of layers (tune)\n",
    "        batch_size=128,    # Adjust based on VRAM\n",
    "        learning_rate=1e-3, # Tune learning rate\n",
    "        epochs=100,         # Number of training epochs\n",
    "        time_embed_dim=64, # Dimension for time embedding\n",
    "        ode_steps=50,       # Number of steps for sampling ODE solver\n",
    "        epsilon=1e-5,        # Small offset for time sampling\n",
    "        conditional=isconditional,   # Enable conditional training\n",
    "        conditional_dim=cdim    # Dimension of conditional variable\n",
    "    )"
   ]
  },
  {
   "cell_type": "code",
   "execution_count": 7,
   "id": "ba519799",
   "metadata": {},
   "outputs": [
    {
     "name": "stdout",
     "output_type": "stream",
     "text": [
      "Attempting to move dataset (7.81 MB) to cuda...\n",
      "Successfully moved dataset to cuda:0\n"
     ]
    }
   ],
   "source": [
    "data_cpu = torch.from_numpy(normedinputs).float()\n",
    "\n",
    "# 3. Move Entire Dataset to Target Device (GPU if available)\n",
    "data_on_device = None\n",
    "if config.device.type == 'cuda':\n",
    "    print(f\"Attempting to move dataset ({data_cpu.nelement() * data_cpu.element_size() / 1024**2:.2f} MB) to {config.device}...\")\n",
    "    try:\n",
    "        data_on_device = data_cpu.to(config.device)\n",
    "        print(f\"Successfully moved dataset to {data_on_device.device}\")\n",
    "    except RuntimeError as e:\n",
    "        print(f\"\\n----- ERROR moving full dataset to GPU: {e}. Exiting. -----\")\n",
    "        exit()\n",
    "else:\n",
    "    print(\"Running on CPU, keeping data on CPU.\")\n",
    "    data_on_device = data_cpu\n"
   ]
  },
  {
   "cell_type": "markdown",
   "id": "1a21cae6",
   "metadata": {},
   "source": [
    "# Train model"
   ]
  },
  {
   "cell_type": "code",
   "execution_count": 8,
   "id": "96300581",
   "metadata": {},
   "outputs": [
    {
     "name": "stdout",
     "output_type": "stream",
     "text": [
      "\n",
      "--- Starting Flow Matching Training ---\n",
      "Training Flow Matching model with data on device: cuda:0\n",
      "DataLoader created with batch size 128, num_workers=0, pin_memory=False\n",
      "Initialized VelocityMLP with 2 layers, hidden size 1024, time_embed_dim 64, conditional True, conditional_dim 5\n",
      "Starting Flow Matching training on cuda for 100 epochs...\n"
     ]
    },
    {
     "name": "stderr",
     "output_type": "stream",
     "text": [
      "Training FM (Epochs): 100%|██████████| 100/100 [15:32<00:00,  9.33s/epoch, avg_loss=1.197127]\n"
     ]
    },
    {
     "name": "stdout",
     "output_type": "stream",
     "text": [
      "\n",
      "Training finished.\n",
      "Model saved to FM_M4_nh1024_nl2_ted64_BS128_LR1e-03_E100\\model_fm.pth\n",
      "Plot saved to FM_M4_nh1024_nl2_ted64_BS128_LR1e-03_E100\\training_loss_fm.png\n"
     ]
    }
   ],
   "source": [
    "# --- Training ---\n",
    "train_model_flag = True\n",
    "config_dir = get_config_directory(config)\n",
    "os.makedirs(config_dir, exist_ok=True)\n",
    "model_filename = \"model_fm.pth\" # Flow Matching model filename\n",
    "epoch_losses = []\n",
    "\n",
    "if train_model_flag:\n",
    "    print(\"\\n--- Starting Flow Matching Training ---\")\n",
    "    # Call the flow matching training function\n",
    "    trained_model, epoch_losses = train_flow_matching(data_on_device, config)\n",
    "\n",
    "    if trained_model:\n",
    "        save_model(trained_model, config, filename=model_filename)\n",
    "        if epoch_losses:\n",
    "            plt.figure(figsize=(10, 5))\n",
    "            plt.plot(epoch_losses, label='Training Loss (Flow Matching)')\n",
    "            plt.xlabel('Epoch')\n",
    "            plt.ylabel('Loss (MSE)')\n",
    "            plt.yscale('log')\n",
    "            plt.grid(True, which='both', linestyle='--', linewidth=0.5)\n",
    "            plt.legend()\n",
    "            plt.title(f'Flow Matching Training Loss\\n{get_config_description(config)}')\n",
    "            loss_fig = plt.gcf()\n",
    "            save_plot(loss_fig, config, \"training_loss_fm.png\")\n",
    "    else:\n",
    "        print(\"Training failed, model not saved.\")\n"
   ]
  },
  {
   "cell_type": "code",
   "execution_count": 10,
   "id": "d0ea00d8",
   "metadata": {},
   "outputs": [
    {
     "ename": "NameError",
     "evalue": "name 'rawinputs' is not defined",
     "output_type": "error",
     "traceback": [
      "\u001b[1;31m---------------------------------------------------------------------------\u001b[0m",
      "\u001b[1;31mNameError\u001b[0m                                 Traceback (most recent call last)",
      "Cell \u001b[1;32mIn[10], line 9\u001b[0m\n\u001b[0;32m      1\u001b[0m condlist \u001b[38;5;241m=\u001b[39m [\n\u001b[0;32m      2\u001b[0m             [[\u001b[38;5;241m1.\u001b[39m, \u001b[38;5;241m0.\u001b[39m, \u001b[38;5;241m0.\u001b[39m,   \u001b[38;5;241m1.\u001b[39m, \u001b[38;5;241m0.\u001b[39m, ]],\n\u001b[0;32m      3\u001b[0m             [[\u001b[38;5;241m0.\u001b[39m, \u001b[38;5;241m1.\u001b[39m, \u001b[38;5;241m0.\u001b[39m,   \u001b[38;5;241m1.\u001b[39m, \u001b[38;5;241m0.\u001b[39m, ]],\n\u001b[1;32m   (...)\u001b[0m\n\u001b[0;32m      7\u001b[0m             [[\u001b[38;5;241m0.\u001b[39m, \u001b[38;5;241m0.\u001b[39m, \u001b[38;5;241m1.\u001b[39m,   \u001b[38;5;241m0.\u001b[39m, \u001b[38;5;241m1.\u001b[39m, ]]\n\u001b[0;32m      8\u001b[0m         ]\n\u001b[1;32m----> 9\u001b[0m select0 \u001b[38;5;241m=\u001b[39m (\u001b[43mrawinputs\u001b[49m[\u001b[38;5;124m'\u001b[39m\u001b[38;5;124mnjet\u001b[39m\u001b[38;5;124m'\u001b[39m]\u001b[38;5;241m==\u001b[39m\u001b[38;5;241m7\u001b[39m) \u001b[38;5;241m&\u001b[39m (rawinputs[\u001b[38;5;124m'\u001b[39m\u001b[38;5;124mnbtag\u001b[39m\u001b[38;5;124m'\u001b[39m]\u001b[38;5;241m==\u001b[39m\u001b[38;5;241m2\u001b[39m)\n\u001b[0;32m     10\u001b[0m select1 \u001b[38;5;241m=\u001b[39m (rawinputs[\u001b[38;5;124m'\u001b[39m\u001b[38;5;124mnjet\u001b[39m\u001b[38;5;124m'\u001b[39m]\u001b[38;5;241m==\u001b[39m\u001b[38;5;241m8\u001b[39m) \u001b[38;5;241m&\u001b[39m (rawinputs[\u001b[38;5;124m'\u001b[39m\u001b[38;5;124mnbtag\u001b[39m\u001b[38;5;124m'\u001b[39m]\u001b[38;5;241m==\u001b[39m\u001b[38;5;241m2\u001b[39m)\n\u001b[0;32m     11\u001b[0m select2 \u001b[38;5;241m=\u001b[39m (rawinputs[\u001b[38;5;124m'\u001b[39m\u001b[38;5;124mnjet\u001b[39m\u001b[38;5;124m'\u001b[39m]\u001b[38;5;241m>\u001b[39m\u001b[38;5;241m=\u001b[39m\u001b[38;5;241m9\u001b[39m) \u001b[38;5;241m&\u001b[39m (rawinputs[\u001b[38;5;124m'\u001b[39m\u001b[38;5;124mnbtag\u001b[39m\u001b[38;5;124m'\u001b[39m]\u001b[38;5;241m==\u001b[39m\u001b[38;5;241m2\u001b[39m)\n",
      "\u001b[1;31mNameError\u001b[0m: name 'rawinputs' is not defined"
     ]
    }
   ],
   "source": [
    "condlist = [\n",
    "            [[1., 0., 0.,   1., 0., ]],\n",
    "            [[0., 1., 0.,   1., 0., ]],\n",
    "            [[0., 0., 1.,   1., 0., ]],\n",
    "            [[1., 0., 0.,   0., 1., ]],\n",
    "            [[0., 1., 0.,   0., 1., ]],\n",
    "            [[0., 0., 1.,   0., 1., ]]\n",
    "        ]\n",
    "select0 = (rawinputs['njet']==7) & (rawinputs['nbtag']==2)\n",
    "select1 = (rawinputs['njet']==8) & (rawinputs['nbtag']==2)\n",
    "select2 = (rawinputs['njet']>=9) & (rawinputs['nbtag']==2)\n",
    "select3 = (rawinputs['njet']==7) & (rawinputs['nbtag']>=3)\n",
    "select4 = (rawinputs['njet']==8) & (rawinputs['nbtag']>=3)\n",
    "select5 = (rawinputs['njet']>=9) & (rawinputs['nbtag']>=3)\n",
    "select_data = [select0, select1, select2, select3, select4, select5]\n",
    "\n",
    "plottextlist=[\n",
    "    f'$N_j=7, N_b=2$',\n",
    "    f'$N_j=8, N_b=2$',\n",
    "    f'$N_j\\geq 9, N_b=2$',\n",
    "    f'$N_j=7, N_b\\geq 3$',\n",
    "    f'$N_j=8, N_b\\geq 3$',\n",
    "    f'$N_j\\geq 9, N_b\\geq 3$'\n",
    "]\n",
    "njlist = [7, 8, 9, 7, 8, 9]\n",
    "nblist = [2, 2, 2, 3, 3, 3]"
   ]
  },
  {
   "cell_type": "code",
   "execution_count": 11,
   "id": "ed0917f6",
   "metadata": {},
   "outputs": [],
   "source": [
    "cond = torch.tensor(condlist[0]*4000).to(config.device).float()"
   ]
  },
  {
   "cell_type": "code",
   "execution_count": 12,
   "id": "aaa7f10f",
   "metadata": {},
   "outputs": [
    {
     "data": {
      "text/plain": [
       "tensor([[1., 0., 0., 1., 0.],\n",
       "        [1., 0., 0., 1., 0.],\n",
       "        [1., 0., 0., 1., 0.],\n",
       "        ...,\n",
       "        [1., 0., 0., 1., 0.],\n",
       "        [1., 0., 0., 1., 0.],\n",
       "        [1., 0., 0., 1., 0.]], device='cuda:0')"
      ]
     },
     "execution_count": 12,
     "metadata": {},
     "output_type": "execute_result"
    }
   ],
   "source": [
    "cond"
   ]
  },
  {
   "cell_type": "code",
   "execution_count": null,
   "id": "93879c1d",
   "metadata": {},
   "outputs": [],
   "source": []
  }
 ],
 "metadata": {
  "kernelspec": {
   "display_name": "magisslac",
   "language": "python",
   "name": "python3"
  },
  "language_info": {
   "codemirror_mode": {
    "name": "ipython",
    "version": 3
   },
   "file_extension": ".py",
   "mimetype": "text/x-python",
   "name": "python",
   "nbconvert_exporter": "python",
   "pygments_lexer": "ipython3",
   "version": "3.10.13"
  }
 },
 "nbformat": 4,
 "nbformat_minor": 5
}
