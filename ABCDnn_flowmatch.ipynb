{
 "cells": [
  {
   "cell_type": "code",
   "execution_count": 1,
   "id": "082ba947",
   "metadata": {},
   "outputs": [],
   "source": [
    "import uproot\n",
    "import numpy as np\n",
    "import pandas as pd\n",
    "import matplotlib.pyplot as plt\n",
    "import pathlib\n",
    "from ttjjana import prepdata\n",
    "\n",
    "from flowmatching import *"
   ]
  },
  {
   "cell_type": "markdown",
   "id": "bb6886da",
   "metadata": {},
   "source": [
    "# Read data and reshape"
   ]
  },
  {
   "cell_type": "code",
   "execution_count": 2,
   "id": "4ea33687",
   "metadata": {},
   "outputs": [],
   "source": [
    "rawinputs, normedinputs, inputmeans, inputsigma, ncat_per_feature = prepdata()"
   ]
  },
  {
   "cell_type": "code",
   "execution_count": 3,
   "id": "0078373e",
   "metadata": {},
   "outputs": [
    {
     "data": {
      "text/plain": [
       "[0, 0, 0, 0, 3, 2]"
      ]
     },
     "execution_count": 3,
     "metadata": {},
     "output_type": "execute_result"
    }
   ],
   "source": [
    "# this contains how many conditional features are in each category\n",
    "ncat_per_feature"
   ]
  },
  {
   "cell_type": "code",
   "execution_count": 4,
   "id": "681c0faa",
   "metadata": {},
   "outputs": [
    {
     "data": {
      "text/plain": [
       "(227376, 9)"
      ]
     },
     "execution_count": 4,
     "metadata": {},
     "output_type": "execute_result"
    }
   ],
   "source": [
    "normedinputs.shape"
   ]
  },
  {
   "cell_type": "code",
   "execution_count": 5,
   "id": "022e4ec5",
   "metadata": {},
   "outputs": [],
   "source": [
    "issignal = (rawinputs['njet']>=9) & (rawinputs['nbtag']>=3) # signal_selection \n",
    "isbackground = ~issignal\n",
    "bkgnormed = normedinputs[isbackground]\n",
    "bkg = rawinputs[isbackground]\n",
    "xmax = np.reshape(inputmeans + 5* inputsigma, inputmeans.shape[1])"
   ]
  },
  {
   "cell_type": "code",
   "execution_count": 6,
   "id": "11841970",
   "metadata": {},
   "outputs": [],
   "source": [
    "featurevars = ['met', 'ht', 'pt5', 'pt6', 'njet', 'nbtag']"
   ]
  },
  {
   "cell_type": "code",
   "execution_count": 7,
   "id": "333e6f3c",
   "metadata": {},
   "outputs": [
    {
     "name": "stdout",
     "output_type": "stream",
     "text": [
      "Conditional dimension: 5\n",
      "Using device: cuda\n",
      "Automatic Mixed Precision (AMP) enabled: True\n"
     ]
    }
   ],
   "source": [
    "#conditional dimensions\n",
    "cdim = np.sum(ncat_per_feature)\n",
    "M = normedinputs.shape[1] - cdim\n",
    "if cdim > 0:\n",
    "    print(f\"Conditional dimension: {cdim}\")\n",
    "    isconditional = True\n",
    "else:\n",
    "    print(\"No conditional dimension\")\n",
    "    isconditional = False\n",
    "\n",
    "config = Config(\n",
    "        M=M,\n",
    "        nhidden=256,        # Reduced hidden size for faster example\n",
    "        nlayers=3,          # Number of layers (tune)\n",
    "        batch_size=128,    # Adjust based on VRAM\n",
    "        learning_rate=1e-3, # Tune learning rate\n",
    "        epochs=200,         # Number of training epochs\n",
    "        time_embed_dim=64, # Dimension for time embedding\n",
    "        ode_steps=25,       # Number of steps for sampling ODE solver\n",
    "        epsilon=1e-5,        # Small offset for time sampling\n",
    "        conditional=isconditional,   # Enable conditional training\n",
    "        conditional_dim=cdim    # Dimension of conditional variable\n",
    "    )"
   ]
  },
  {
   "cell_type": "code",
   "execution_count": 8,
   "id": "ba519799",
   "metadata": {},
   "outputs": [
    {
     "name": "stdout",
     "output_type": "stream",
     "text": [
      "Attempting to move dataset (6.95 MB) to cuda...\n",
      "Successfully moved dataset to cuda:0\n"
     ]
    }
   ],
   "source": [
    "data_cpu = torch.from_numpy(bkgnormed).float()\n",
    "\n",
    "# 3. Move Entire Dataset to Target Device (GPU if available)\n",
    "data_on_device = None\n",
    "if config.device.type == 'cuda':\n",
    "    print(f\"Attempting to move dataset ({data_cpu.nelement() * data_cpu.element_size() / 1024**2:.2f} MB) to {config.device}...\")\n",
    "    try:\n",
    "        data_on_device = data_cpu.to(config.device)\n",
    "        print(f\"Successfully moved dataset to {data_on_device.device}\")\n",
    "    except RuntimeError as e:\n",
    "        print(f\"\\n----- ERROR moving full dataset to GPU: {e}. Exiting. -----\")\n",
    "        exit()\n",
    "else:\n",
    "    print(\"Running on CPU, keeping data on CPU.\")\n",
    "    data_on_device = data_cpu\n"
   ]
  },
  {
   "cell_type": "markdown",
   "id": "1a21cae6",
   "metadata": {},
   "source": [
    "# Train model"
   ]
  },
  {
   "cell_type": "code",
   "execution_count": 9,
   "id": "96300581",
   "metadata": {},
   "outputs": [
    {
     "name": "stdout",
     "output_type": "stream",
     "text": [
      "\n",
      "--- Starting Flow Matching Training ---\n",
      "Training Flow Matching model with data on device: cuda:0\n",
      "DataLoader created with batch size 128, num_workers=0, pin_memory=False\n",
      "Initialized VelocityMLP with 3 layers, hidden size 256, time_embed_dim 64, conditional True, conditional_dim 5\n",
      "Starting Flow Matching training on cuda for 200 epochs...\n"
     ]
    },
    {
     "name": "stderr",
     "output_type": "stream",
     "text": [
      "Training FM (Epochs): 100%|██████████| 200/200 [32:09<00:00,  9.65s/epoch, avg_loss=1.175701]\n"
     ]
    },
    {
     "name": "stdout",
     "output_type": "stream",
     "text": [
      "\n",
      "Training finished.\n",
      "Model saved to FM_M4_nh256_nl3_ted64_BS128_LR1e-03_E200\\model_fm.pth\n",
      "Plot saved to FM_M4_nh256_nl3_ted64_BS128_LR1e-03_E200\\training_loss_fm.png\n"
     ]
    }
   ],
   "source": [
    "# --- Training ---\n",
    "train_model_flag = True\n",
    "config_dir = get_config_directory(config)\n",
    "pathlib.Path(config_dir).mkdir(parents=True, exist_ok=True)\n",
    "#os.makedirs(config_dir, exist_ok=True)\n",
    "model_filename = \"model_fm.pth\" # Flow Matching model filename\n",
    "\n",
    "if train_model_flag:\n",
    "    print(\"\\n--- Starting Flow Matching Training ---\")\n",
    "    # Call the flow matching training function\n",
    "    trained_model, epoch_losses = train_flow_matching(data_on_device, config)\n",
    "\n",
    "    if trained_model:\n",
    "        save_model(trained_model, config, filename=model_filename)\n",
    "        if epoch_losses:\n",
    "            plt.figure(figsize=(10, 5))\n",
    "            plt.plot(epoch_losses, label='Training Loss (Flow Matching)')\n",
    "            plt.xlabel('Epoch')\n",
    "            plt.ylabel('Loss (MSE)')\n",
    "            plt.yscale('log')\n",
    "            plt.grid(True, which='both', linestyle='--', linewidth=0.5)\n",
    "            plt.legend()\n",
    "            plt.title(f'Flow Matching Training Loss\\n{get_config_description(config)}')\n",
    "            loss_fig = plt.gcf()\n",
    "            save_plot(loss_fig, config, \"training_loss_fm.png\")\n",
    "    else:\n",
    "        print(\"Training failed, model not saved.\")\n",
    "else:\n",
    "    #model_path = os.path.join(config_dir, model_filename)\n",
    "    model_path = pathlib.Path(config_dir) / model_filename\n",
    "    #if not os.path.exists(model_path):\n",
    "    if not model_path.exists():\n",
    "        print(f\"\\nModel file {model_path} not found. Cannot perform sampling.\")\n",
    "    else:\n",
    "        print(\"\\n--- Loading Model for Flow Matching Sampling ---\")\n",
    "        # Load the velocity network model\n",
    "        trained_model = load_model(VelocityMLP, config, filename=model_filename)"
   ]
  },
  {
   "cell_type": "code",
   "execution_count": 10,
   "id": "d0ea00d8",
   "metadata": {},
   "outputs": [],
   "source": [
    "condlist = [\n",
    "            [[1., 0., 0.,   1., 0., ]],\n",
    "            [[0., 1., 0.,   1., 0., ]],\n",
    "            [[0., 0., 1.,   1., 0., ]],\n",
    "            [[1., 0., 0.,   0., 1., ]],\n",
    "            [[0., 1., 0.,   0., 1., ]],\n",
    "            [[0., 0., 1.,   0., 1., ]]\n",
    "        ]\n",
    "select0 = (rawinputs['njet']==7) & (rawinputs['nbtag']==2)\n",
    "select1 = (rawinputs['njet']==8) & (rawinputs['nbtag']==2)\n",
    "select2 = (rawinputs['njet']>=9) & (rawinputs['nbtag']==2)\n",
    "select3 = (rawinputs['njet']==7) & (rawinputs['nbtag']>=3)\n",
    "select4 = (rawinputs['njet']==8) & (rawinputs['nbtag']>=3)\n",
    "select5 = (rawinputs['njet']>=9) & (rawinputs['nbtag']>=3)\n",
    "select_data = [select0, select1, select2, select3, select4, select5]\n",
    "\n",
    "plottextlist=[\n",
    "    f'$N_j=7, N_b=2$',\n",
    "    f'$N_j=8, N_b=2$',\n",
    "    f'$N_j\\geq 9, N_b=2$',\n",
    "    f'$N_j=7, N_b\\geq 3$',\n",
    "    f'$N_j=8, N_b\\geq 3$',\n",
    "    f'$N_j\\geq 9, N_b\\geq 3$'\n",
    "]\n",
    "njlist = [7, 8, 9, 7, 8, 9]\n",
    "nblist = [2, 2, 2, 3, 3, 3]"
   ]
  },
  {
   "cell_type": "code",
   "execution_count": 11,
   "id": "ed0917f6",
   "metadata": {},
   "outputs": [],
   "source": [
    "cond = torch.tensor(condlist[0]*4000).to(config.device).float()"
   ]
  },
  {
   "cell_type": "code",
   "execution_count": 12,
   "id": "aaa7f10f",
   "metadata": {},
   "outputs": [
    {
     "data": {
      "text/plain": [
       "tensor([[1., 0., 0., 1., 0.],\n",
       "        [1., 0., 0., 1., 0.],\n",
       "        [1., 0., 0., 1., 0.],\n",
       "        ...,\n",
       "        [1., 0., 0., 1., 0.],\n",
       "        [1., 0., 0., 1., 0.],\n",
       "        [1., 0., 0., 1., 0.]], device='cuda:0')"
      ]
     },
     "execution_count": 12,
     "metadata": {},
     "output_type": "execute_result"
    }
   ],
   "source": [
    "cond"
   ]
  },
  {
   "cell_type": "code",
   "execution_count": 13,
   "id": "93879c1d",
   "metadata": {},
   "outputs": [
    {
     "name": "stdout",
     "output_type": "stream",
     "text": [
      "Starting ODE integration with 25 steps...\n",
      "ODE integration finished.\n"
     ]
    }
   ],
   "source": [
    "gensamples = sample_flow(trained_model, config, 4000, cond)"
   ]
  },
  {
   "cell_type": "code",
   "execution_count": 14,
   "id": "9a3f4061",
   "metadata": {},
   "outputs": [
    {
     "data": {
      "text/plain": [
       "torch.Size([4000, 4])"
      ]
     },
     "execution_count": 14,
     "metadata": {},
     "output_type": "execute_result"
    }
   ],
   "source": [
    "gensamples.shape"
   ]
  },
  {
   "cell_type": "code",
   "execution_count": 15,
   "id": "c9572cb0",
   "metadata": {},
   "outputs": [
    {
     "data": {
      "text/plain": [
       "(array([[8.15273445e-01, 8.59993086e-01, 7.44754136e-01, 6.93154427e-01,\n",
       "         5.67595437e-01, 4.16236654e-01, 3.33677345e-01, 2.63157884e-01,\n",
       "         1.85758507e-01, 1.53078769e-01, 1.15239074e-01, 8.25593636e-02,\n",
       "         9.11592369e-02, 4.81596288e-02, 5.15995681e-02, 2.75197879e-02,\n",
       "         2.57998011e-02, 1.54798704e-02, 1.71998560e-02, 8.59993940e-03,\n",
       "         6.87994241e-03, 3.43997120e-03, 5.15995681e-03, 5.15996364e-03,\n",
       "         3.43997120e-03, 6.87994241e-03, 1.71998788e-03, 1.71998560e-03,\n",
       "         0.00000000e+00, 0.00000000e+00, 1.71998788e-03, 0.00000000e+00,\n",
       "         0.00000000e+00, 0.00000000e+00, 1.71998332e-03, 1.71998788e-03,\n",
       "         0.00000000e+00, 0.00000000e+00, 0.00000000e+00, 0.00000000e+00,\n",
       "         0.00000000e+00, 0.00000000e+00, 0.00000000e+00, 0.00000000e+00,\n",
       "         0.00000000e+00, 0.00000000e+00, 0.00000000e+00, 0.00000000e+00,\n",
       "         0.00000000e+00, 0.00000000e+00],\n",
       "        [8.13181939e-01, 8.49575341e-01, 7.77544612e-01, 6.51409490e-01,\n",
       "         5.27866310e-01, 4.32617111e-01, 3.38231878e-01, 2.54321841e-01,\n",
       "         2.06805234e-01, 1.52917082e-01, 1.15983719e-01, 9.11455224e-02,\n",
       "         7.40826860e-02, 5.58320321e-02, 3.98491416e-02, 3.56374673e-02,\n",
       "         2.75380429e-02, 2.30023500e-02, 1.80347064e-02, 1.27431028e-02,\n",
       "         1.06912331e-02, 9.50331832e-03, 6.80351198e-03, 3.88772628e-03,\n",
       "         6.15555846e-03, 3.88772113e-03, 2.69980992e-03, 2.91579085e-03,\n",
       "         1.83587074e-03, 1.40389744e-03, 1.61988595e-03, 1.40389744e-03,\n",
       "         7.55946777e-04, 5.39961983e-04, 3.23976332e-04, 9.71931570e-04,\n",
       "         3.23977190e-04, 2.15984221e-04, 1.07992397e-04, 2.15984793e-04,\n",
       "         1.07992111e-04, 1.07992397e-04, 1.07992397e-04, 1.07992111e-04,\n",
       "         0.00000000e+00, 0.00000000e+00, 1.07992397e-04, 2.15984793e-04,\n",
       "         1.07992111e-04, 1.07992397e-04]]),\n",
       " array([-1.  , -0.82, -0.64, -0.46, -0.28, -0.1 ,  0.08,  0.26,  0.44,\n",
       "         0.62,  0.8 ,  0.98,  1.16,  1.34,  1.52,  1.7 ,  1.88,  2.06,\n",
       "         2.24,  2.42,  2.6 ,  2.78,  2.96,  3.14,  3.32,  3.5 ,  3.68,\n",
       "         3.86,  4.04,  4.22,  4.4 ,  4.58,  4.76,  4.94,  5.12,  5.3 ,\n",
       "         5.48,  5.66,  5.84,  6.02,  6.2 ,  6.38,  6.56,  6.74,  6.92,\n",
       "         7.1 ,  7.28,  7.46,  7.64,  7.82,  8.  ], dtype=float32),\n",
       " <a list of 2 list[Polygon] objects>)"
      ]
     },
     "execution_count": 15,
     "metadata": {},
     "output_type": "execute_result"
    },
    {
     "data": {
      "application/vnd.jupyter.widget-view+json": {
       "model_id": "14395ff52dca407888ca9affb19cfd91",
       "version_major": 2,
       "version_minor": 0
      },
      "image/png": "[encoded data removed]",
      "text/html": [
       "\n",
       "            <div style=\"display: inline-block;\">\n",
       "                <div class=\"jupyter-widgets widget-label\" style=\"text-align: center;\">\n",
       "                    Figure\n",
       "                </div>\n",
       "                <img src='data:image/png;base64,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' width=640.0/>\n",
       "            </div>\n",
       "        "
      ],
      "text/plain": [
       "Canvas(toolbar=Toolbar(toolitems=[('Home', 'Reset original view', 'home', 'home'), ('Back', 'Back to previous …"
      ]
     },
     "metadata": {},
     "output_type": "display_data"
    }
   ],
   "source": [
    "%matplotlib widget\n",
    "plt.hist((gensamples[:,2],normedinputs[select0][:,2]), bins=50, density=True, range=(-1, 8), histtype='step', label='Flow Matching')"
   ]
  },
  {
   "cell_type": "code",
   "execution_count": 16,
   "id": "fcf2608e",
   "metadata": {},
   "outputs": [
    {
     "data": {
      "application/vnd.jupyter.widget-view+json": {
       "model_id": "e4d520eb14584e3f969c5e9d072763cc",
       "version_major": 2,
       "version_minor": 0
      },
      "image/png": "[encoded data removed]",
      "text/html": [
       "\n",
       "            <div style=\"display: inline-block;\">\n",
       "                <div class=\"jupyter-widgets widget-label\" style=\"text-align: center;\">\n",
       "                    Figure\n",
       "                </div>\n",
       "                <img src='data:image/png;base64,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' width=1000.0/>\n",
       "            </div>\n",
       "        "
      ],
      "text/plain": [
       "Canvas(toolbar=Toolbar(toolitems=[('Home', 'Reset original view', 'home', 'home'), ('Back', 'Back to previous …"
      ]
     },
     "metadata": {},
     "output_type": "display_data"
    }
   ],
   "source": [
    "plt.close()\n",
    "fig, ax = plt.subplots(1, 2 ,figsize=(10, 4))\n",
    "plt.sca(ax[0])\n",
    "plt.hist2d(gensamples[:,0],gensamples[:,1], bins=30, range=((-1, 6), (-1,6)), density=True)\n",
    "plt.xlabel('var 0')\n",
    "plt.ylabel('var 1')    \n",
    "plt.colorbar()\n",
    "plt.sca(ax[1])\n",
    "plt.hist2d(normedinputs[select0][:,0],normedinputs[select0][:,1], bins=30, range=((-1, 6), (-1, 6)), density=True)\n",
    "plt.xlabel('var 0')\n",
    "plt.ylabel('var 1')\n",
    "plt.colorbar()\n",
    "plt.show()"
   ]
  },
  {
   "cell_type": "markdown",
   "id": "37316b9b",
   "metadata": {},
   "source": [
    "# Create fake data list"
   ]
  },
  {
   "cell_type": "code",
   "execution_count": 17,
   "id": "7da2ad10",
   "metadata": {},
   "outputs": [
    {
     "name": "stdout",
     "output_type": "stream",
     "text": [
      "Starting ODE integration with 25 steps...\n",
      "ODE integration finished.\n",
      "Starting ODE integration with 25 steps...\n",
      "ODE integration finished.\n",
      "Starting ODE integration with 25 steps...\n",
      "ODE integration finished.\n",
      "Starting ODE integration with 25 steps...\n",
      "ODE integration finished.\n",
      "Starting ODE integration with 25 steps...\n",
      "ODE integration finished.\n",
      "Starting ODE integration with 25 steps...\n",
      "ODE integration finished.\n"
     ]
    }
   ],
   "source": [
    "fakedatalist = []\n",
    "for cond, nj, nb in zip(condlist, njlist, nblist):\n",
    "        condtorch = torch.tensor(cond*4000).to(config.device).float()\n",
    "        fakedata = sample_flow(trained_model, config, 4000, condtorch).cpu().numpy()\n",
    "\n",
    "        # all data\n",
    "        fakedata = fakedata * inputsigma[:, :config.M] + inputmeans[:, :config.M]\n",
    "        nfakes = fakedata.shape[0]\n",
    "\n",
    "        fakedata = np.hstack((fakedata, np.array([nj]*nfakes).reshape((nfakes,1))\\\n",
    "                , np.array([nb]*nfakes).reshape(nfakes,1) )\n",
    "        )\n",
    "        fakedatalist.append(fakedata)\n"
   ]
  },
  {
   "cell_type": "markdown",
   "id": "72f433db",
   "metadata": {},
   "source": [
    "# Plot"
   ]
  },
  {
   "cell_type": "code",
   "execution_count": null,
   "id": "042d22ce",
   "metadata": {},
   "outputs": [],
   "source": [
    "\n",
    "ncol=3\n",
    "labelsindices = [['MET', 'met', 0.0, xmax[0]], ['H_T', 'ht', 0.0, xmax[1]],\\\n",
    "    ['p_{T5}', 'pt5', 0.0, xmax[2]], ['p_{T6}', 'pt6', 0.0, xmax[3]]]\n",
    "nbins=20\n",
    "runplots = True\n",
    "if runplots:\n",
    "    yscales = ['log', 'linear']\n",
    "    for yscale in yscales:\n",
    "        for li in labelsindices:\n",
    "            pos = featurevars.index(li[1])\n",
    "            fig, ax = plt.subplots(2,ncol, figsize=(3*ncol,6))\n",
    "            iplot = 0\n",
    "            for fakedata, seld, plottext in zip(fakedatalist, select_data, plottextlist):\n",
    "                input_data = rawinputs[seld]\n",
    "\n",
    "                # make matrix of plots\n",
    "                row = iplot // ncol\n",
    "                col = iplot % ncol\n",
    "                iplot += 1\n",
    "                plt.sca(ax[row,col])\n",
    "                plt.yscale(yscale)\n",
    "                plt.xlabel(f\"${li[0]}$ (GeV)\")\n",
    "                plt.hist(input_data[li[1]], bins=nbins, alpha=0.5, range=(li[2], li[3]), density=True, label='Data')\n",
    "                plt.hist(fakedata[:,pos], bins=nbins, alpha=0.5, range=(li[2], li[3]), density=True, label='Flow Matching')\n",
    "                #plt.hist(bkg[li[1]], bins=nbins, alpha=0.5, range=(li[2], li[3]), histtype='step', normed=True)\n",
    "                plt.text(0.6, 0.8, plottext, transform=ax[row,col].transAxes, fontsize=10)\n",
    "        \n",
    "            fig.tight_layout()\n",
    "            #fig.savefig(os.path.join(savedir, f'result_matrix_{li[1]}_{yscale}.pdf'))\n",
    "            fig.savefig(pathlib.Path(config_dir) / f'result_matrix_{li[1]}_{yscale}.pdf')\n",
    "            plt.close(fig)"
   ]
  },
  {
   "cell_type": "code",
   "execution_count": null,
   "id": "2a8a9a63",
   "metadata": {},
   "outputs": [],
   "source": []
  }
 ],
 "metadata": {
  "kernelspec": {
   "display_name": "magisslac",
   "language": "python",
   "name": "python3"
  },
  "language_info": {
   "codemirror_mode": {
    "name": "ipython",
    "version": 3
   },
   "file_extension": ".py",
   "mimetype": "text/x-python",
   "name": "python",
   "nbconvert_exporter": "python",
   "pygments_lexer": "ipython3",
   "version": "3.10.13"
  }
 },
 "nbformat": 4,
 "nbformat_minor": 5
}
